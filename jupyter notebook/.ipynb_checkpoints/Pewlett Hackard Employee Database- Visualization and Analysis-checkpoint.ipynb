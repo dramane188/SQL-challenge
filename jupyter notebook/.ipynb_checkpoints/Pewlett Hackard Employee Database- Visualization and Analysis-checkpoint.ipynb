{
 "cells": [
  {
   "cell_type": "code",
   "execution_count": null,
   "metadata": {},
   "outputs": [],
   "source": [
    "#pip install psycopg2"
   ]
  },
  {
   "cell_type": "code",
   "execution_count": null,
   "metadata": {},
   "outputs": [],
   "source": [
    "# SQL Alchemy\n",
    "from sqlalchemy import create_engine\n",
    "import pandas as pd\n",
    "import matplotlib.pyplot as plt\n",
    "import numpy as np\n",
    "#import sys\n",
    "#sys.path.append('../../')\n",
    "#import config\n",
    "#from config import DB_USER, DB_PASS\n",
    "\n"
   ]
  },
  {
   "cell_type": "code",
   "execution_count": null,
   "metadata": {},
   "outputs": [],
   "source": [
    "#engine = create_engine('postgresql://localhost:5432/SQL_HW_Test')\n",
    "from sqlalchemy import create_engine\n",
    "engine = create_engine('postgresql://localhost:5432/employee_db')\n",
    "connection = engine.connect()"
   ]
  },
  {
   "cell_type": "code",
   "execution_count": null,
   "metadata": {},
   "outputs": [],
   "source": [
    "salaries = pd.read_sql(\"SELECT * FROM salaries\", conn)\n",
    "salaries.head()"
   ]
  },
  {
   "cell_type": "code",
   "execution_count": null,
   "metadata": {},
   "outputs": [],
   "source": [
    "titles = pd.read_sql(\"SELECT * FROM titles\", conn)\n",
    "titles.head()"
   ]
  },
  {
   "cell_type": "code",
   "execution_count": null,
   "metadata": {},
   "outputs": [],
   "source": [
    "merged = pd.merge(salaries, titles, on=\"emp_no\", how=\"inner\")\n",
    "merged.head()"
   ]
  },
  {
   "cell_type": "code",
   "execution_count": null,
   "metadata": {},
   "outputs": [],
   "source": [
    "grouped = merged.groupby(\"title\").mean()\n",
    "grouped"
   ]
  },
  {
   "cell_type": "code",
   "execution_count": null,
   "metadata": {},
   "outputs": [],
   "source": [
    "title_salary_df = grouped.drop(columns = \"emp_no\")\n",
    "title_salary_df\n"
   ]
  },
  {
   "cell_type": "code",
   "execution_count": null,
   "metadata": {},
   "outputs": [],
   "source": [
    "title_salary_df = title_salary_df.reset_index()\n",
    "title_salary_df"
   ]
  },
  {
   "cell_type": "code",
   "execution_count": null,
   "metadata": {},
   "outputs": [],
   "source": [
    "x_axis = title_salary_df[\"title\"]\n",
    "ticks = np.arange(len(x_axis))\n",
    "y_axis = title_salary_df[\"salary\"]\n",
    " \n",
    "plt.bar(x_axis, y_axis, align=\"center\", alpha=1.0, color=[\"pink\", \"b\", \"r\", \"orange\", \"y\", \"b\", \"g\"])\n",
    "\n",
    "plt.xticks(ticks, x_axis, rotation=\"vertical\")\n",
    "\n",
    "plt.ylabel(\"Salaries ($)\")\n",
    "plt.xlabel(\"Employee Title\")\n",
    "plt.title(\"Average Employee Salary by Title\")\n",
    "\n",
    "plt.savefig(\"../Images/avg_salary_by_title.png\")\n",
    "\n",
    "plt.show()"
   ]
  },
  {
   "cell_type": "code",
   "execution_count": null,
   "metadata": {},
   "outputs": [],
   "source": []
  }
 ],
 "metadata": {
  "kernelspec": {
   "display_name": "Python 3",
   "language": "python",
   "name": "python3"
  },
  "language_info": {
   "codemirror_mode": {
    "name": "ipython",
    "version": 3
   },
   "file_extension": ".py",
   "mimetype": "text/x-python",
   "name": "python",
   "nbconvert_exporter": "python",
   "pygments_lexer": "ipython3",
   "version": "3.8.5"
  }
 },
 "nbformat": 4,
 "nbformat_minor": 4
}
